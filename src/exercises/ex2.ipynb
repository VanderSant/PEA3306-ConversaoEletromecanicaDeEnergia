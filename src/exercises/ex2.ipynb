{
 "metadata": {
  "language_info": {
   "codemirror_mode": {
    "name": "ipython",
    "version": 3
   },
   "file_extension": ".py",
   "mimetype": "text/x-python",
   "name": "python",
   "nbconvert_exporter": "python",
   "pygments_lexer": "ipython3",
   "version": "3.9.5"
  },
  "orig_nbformat": 2,
  "kernelspec": {
   "name": "python395jvsc74a57bd07573f1826719c495f3ba25031edb16b094c0636b1d900b9c08b47dfe6633cab2",
   "display_name": "Python 3.9.5 64-bit"
  },
  "metadata": {
   "interpreter": {
    "hash": "7573f1826719c495f3ba25031edb16b094c0636b1d900b9c08b47dfe6633cab2"
   }
  }
 },
 "nbformat": 4,
 "nbformat_minor": 2,
 "cells": [
  {
   "source": [
    "# Atividade 2"
   ],
   "cell_type": "markdown",
   "metadata": {}
  },
  {
   "cell_type": "code",
   "execution_count": 10,
   "metadata": {},
   "outputs": [],
   "source": [
    "# dados enunciado\n",
    "import numpy as np\n",
    "e = 2.71828182845\n",
    "pi = 3.1415\n",
    "\n",
    "u1 = 1500\n",
    "u2 = 2500\n",
    "u0 = 4*pi/10**(7)\n",
    "phig = 10**(-2)\n",
    "l1 = l2 = l8 = 5/100\n",
    "N = 500\n",
    "l3 = 20/100\n",
    "l4 = 10/100\n",
    "l5 = 40/100\n",
    "l6 = 8/100\n",
    "l7 = 50/100\n",
    "l9 = 10/100\n",
    "l10 = 1/1000"
   ]
  },
  {
   "source": [
    "## a)"
   ],
   "cell_type": "markdown",
   "metadata": {}
  },
  {
   "source": [
    "## b)"
   ],
   "cell_type": "markdown",
   "metadata": {}
  },
  {
   "cell_type": "code",
   "execution_count": 14,
   "metadata": {},
   "outputs": [
    {
     "output_type": "stream",
     "name": "stdout",
     "text": [
      "R1 =  31831.927423205463\nR2 =  30693.272852671216\nR3 =  30693.272852671216\nR4 =  29126.213592232998\nR5 =  54414.55780147486\nR6 =  19894.954639503416\nR7 =  54414.55780147486\nRe =  79579.81855801365\n"
     ]
    }
   ],
   "source": [
    "R = lambda u,l,s : (1/u)*(l/s)\n",
    "L = lambda N,R: (N**2)/R\n",
    "\n",
    "l_R1 = l7\n",
    "l_R2 = l_R3 = l3 + (pi/2)*(l2/2) + (l4/2)\n",
    "l_R4 = l7 +l8 - l10\n",
    "l_R5 = l_R7 = l5 + (l4/2) + (pi/2)*(l6/2)\n",
    "l_R6 = l7\n",
    "l_Re = l10\n",
    "\n",
    "s_R1 = l9*l1\n",
    "s_R2 = l9*l2 \n",
    "s_R3 = l9*l8\n",
    "s_R4 = l9*l4\n",
    "s_R5 = l9*l2\n",
    "s_R6 = l9*l6\n",
    "s_R7 = l9*l8\n",
    "s_Re =  l9*l4\n",
    "\n",
    "R2 = R(u0*u1,l_R2,s_R2)\n",
    "R3 = R(u0*u1,l_R3,s_R3)\n",
    "R5 = R(u0*u1,l_R5,s_R5)\n",
    "R4 = R(u0*u1,l_R4,s_R4)\n",
    "R7 = R(u0*u1,l_R7,s_R7)\n",
    "Re = R(u0,l_Re,s_Re)\n",
    "\n",
    "R1 = R(u0*u2,l_R1,s_R1)\n",
    "R6 = R(u0*u2,l_R6,s_R6)\n",
    "\n",
    "print(\"R1 = \",R1)\n",
    "print(\"R2 = \",R2)\n",
    "print(\"R3 = \",R3)\n",
    "print(\"R4 = \",R4)\n",
    "print(\"R5 = \",R5)\n",
    "print(\"R6 = \",R6)\n",
    "print(\"R7 = \",R7)\n",
    "print(\"Re = \",Re)"
   ]
  },
  {
   "source": [
    "## c)"
   ],
   "cell_type": "markdown",
   "metadata": {}
  },
  {
   "cell_type": "code",
   "execution_count": 15,
   "metadata": {},
   "outputs": [
    {
     "output_type": "stream",
     "name": "stdout",
     "text": [
      "162771.65247088534\n3.255433049417707\n"
     ]
    }
   ],
   "source": [
    "I = lambda phi,R,N: phi*R/N\n",
    "\n",
    "Req = R4 + Re + ((R5+R6+R7)*(R2+R1+R3))/((R5+R6+R7)+(R2+R1+R3))\n",
    "print(Req)\n",
    "ig = I(phig,Req,N) \n",
    "print(ig)"
   ]
  },
  {
   "source": [
    "## d)"
   ],
   "cell_type": "markdown",
   "metadata": {}
  },
  {
   "cell_type": "code",
   "execution_count": 28,
   "metadata": {},
   "outputs": [
    {
     "output_type": "stream",
     "name": "stdout",
     "text": [
      "B6 = 0.8400234737575578\nB1 = 1.1599765262424415\n"
     ]
    }
   ],
   "source": [
    "fem = Req*phig\n",
    "e1 = fem - phig*R4 \n",
    "er = phig*Re\n",
    "phi5 = (e1-er)/(R5 + R6 + R7)\n",
    "B5 = phi5/s_R5\n",
    "phi2 = (e1-er)/(R2 + R1 + R3)\n",
    "B2 = phi2/s_R2\n",
    "\n",
    "print(\"B6 =\", B5)\n",
    "print(\"B1 =\", B2)"
   ]
  },
  {
   "source": [
    "## e)"
   ],
   "cell_type": "markdown",
   "metadata": {}
  },
  {
   "cell_type": "code",
   "execution_count": 29,
   "metadata": {},
   "outputs": [
    {
     "output_type": "stream",
     "name": "stdout",
     "text": [
      "1.5358939729675414\n"
     ]
    }
   ],
   "source": [
    "Leq = L(N,Req)\n",
    "print(Leq)"
   ]
  },
  {
   "cell_type": "code",
   "execution_count": null,
   "metadata": {},
   "outputs": [],
   "source": []
  }
 ]
}