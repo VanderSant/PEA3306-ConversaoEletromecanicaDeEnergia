{
 "metadata": {
  "language_info": {
   "codemirror_mode": {
    "name": "ipython",
    "version": 3
   },
   "file_extension": ".py",
   "mimetype": "text/x-python",
   "name": "python",
   "nbconvert_exporter": "python",
   "pygments_lexer": "ipython3",
   "version": "3.9.5"
  },
  "orig_nbformat": 2,
  "kernelspec": {
   "name": "python395jvsc74a57bd07573f1826719c495f3ba25031edb16b094c0636b1d900b9c08b47dfe6633cab2",
   "display_name": "Python 3.9.5 64-bit"
  },
  "metadata": {
   "interpreter": {
    "hash": "7573f1826719c495f3ba25031edb16b094c0636b1d900b9c08b47dfe6633cab2"
   }
  }
 },
 "nbformat": 4,
 "nbformat_minor": 2,
 "cells": [
  {
   "cell_type": "code",
   "execution_count": 10,
   "metadata": {},
   "outputs": [],
   "source": [
    "import numpy as np\n",
    "import cmath\n",
    "e = 2.71828182845\n",
    "pi = 3.1415\n",
    "u0 = 4*pi/10**(7)\n",
    "make_complex = lambda radii, angles : radii * e**(1j*angles)\n",
    "print_complex = lambda zc : print(\"valor  =\", zc, \"|valor|  = \",abs(zc),\"  valor angle  = \",np.angle(zc)*180/pi)\n",
    "Req = lambda R1,R2: (R1*R2)/(R1+R2)\n",
    "Relutancia = lambda u,l,s : (1/u)*(l/s)\n",
    "L = lambda N,R: (N**2)/R"
   ]
  },
  {
   "source": [
    "## exercício 1"
   ],
   "cell_type": "markdown",
   "metadata": {}
  },
  {
   "cell_type": "code",
   "execution_count": 3,
   "metadata": {},
   "outputs": [
    {
     "output_type": "stream",
     "name": "stdout",
     "text": [
      "240\n0.53004280525617\n63.2967032967033\n"
     ]
    }
   ],
   "source": [
    "#--exercício 1--------------------------------#\n",
    "S = 10*1000\n",
    "V1 = 2400\n",
    "V2 = 240\n",
    "f = 60\n",
    "r1 = 4.87\n",
    "r2 = 0.0487\n",
    "xd1 = 9.51j\n",
    "xd2 = 0.095j\n",
    "rc = 910\n",
    "xm = 522j\n",
    "\n",
    "V0 = V2\n",
    "print(V0)\n",
    "phi = np.arctan(rc/abs(xm))\n",
    "I0 = V0/(rc*np.cos(phi))\n",
    "print(I0)\n",
    "P0 = (V0**2)/rc\n",
    "print(P0)"
   ]
  },
  {
   "source": [
    "## exercício 2"
   ],
   "cell_type": "markdown",
   "metadata": {}
  },
  {
   "cell_type": "code",
   "execution_count": 20,
   "metadata": {},
   "outputs": [
    {
     "output_type": "stream",
     "name": "stdout",
     "text": [
      "-4.9478625\n-1.413675\n1.15450125\nx =  141.36750000000004 [cm]\n"
     ]
    }
   ],
   "source": [
    "N = 100\n",
    "a = 35/100\n",
    "g = 2/1000\n",
    "k = 3.5\n",
    "ur = 1\n",
    "\n",
    "I = 3\n",
    "F = - (N**2)*(I**2)*u0*a/(4*g)\n",
    "print(F)\n",
    "move = F/k\n",
    "print(move)\n",
    "print(N*I*100/(2*(Relutancia(u0,g,a*a))))\n",
    "x = (I**2)*a*u0*(N**2)/(4*g*k)\n",
    "print(\"x = \",x*100,\"[cm]\")"
   ]
  },
  {
   "source": [
    "## exercício 3"
   ],
   "cell_type": "markdown",
   "metadata": {}
  },
  {
   "cell_type": "code",
   "execution_count": null,
   "metadata": {},
   "outputs": [],
   "source": []
  },
  {
   "source": [
    "## exercício 4"
   ],
   "cell_type": "markdown",
   "metadata": {}
  },
  {
   "cell_type": "code",
   "execution_count": 19,
   "metadata": {},
   "outputs": [
    {
     "output_type": "stream",
     "name": "stdout",
     "text": [
      "91.10961451447241\n"
     ]
    }
   ],
   "source": [
    "a  = 220/760\n",
    "r1 = 0.513\n",
    "x1 = 2.31j\n",
    "r2 = 0.043\n",
    "x2 = 0.194j\n",
    "rp = 72.6\n",
    "xm = 32.27j\n",
    "mod_Zc = 28.88\n",
    "V = 220\n",
    "\n",
    "Zc = ((0.8*mod_Zc)+(0.6j*mod_Zc))*(a**2)\n",
    "Z1 = (r1+x1)*(a**2)\n",
    "Z2 = r2+x2\n",
    "Z3 = Req(rp,xm)\n",
    "Zt = Req(Z3,(Z1+Z2+Zc))\n",
    "I2 = V/(Z1+Z2+Zc)\n",
    "Vc = I2*Zc\n",
    "Sc = Vc*(I2.conjugate())\n",
    "S = (V**2)/Zt\n",
    "rendimento=100*(Sc.real/S.real)\n",
    "print(rendimento)"
   ]
  },
  {
   "source": [
    "## exercício 5"
   ],
   "cell_type": "markdown",
   "metadata": {}
  },
  {
   "cell_type": "code",
   "execution_count": null,
   "metadata": {},
   "outputs": [],
   "source": []
  }
 ]
}