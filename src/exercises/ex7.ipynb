{
 "metadata": {
  "language_info": {
   "codemirror_mode": {
    "name": "ipython",
    "version": 3
   },
   "file_extension": ".py",
   "mimetype": "text/x-python",
   "name": "python",
   "nbconvert_exporter": "python",
   "pygments_lexer": "ipython3",
   "version": "3.9.5"
  },
  "orig_nbformat": 2,
  "kernelspec": {
   "name": "python395jvsc74a57bd07573f1826719c495f3ba25031edb16b094c0636b1d900b9c08b47dfe6633cab2",
   "display_name": "Python 3.9.5 64-bit"
  },
  "metadata": {
   "interpreter": {
    "hash": "7573f1826719c495f3ba25031edb16b094c0636b1d900b9c08b47dfe6633cab2"
   }
  }
 },
 "nbformat": 4,
 "nbformat_minor": 2,
 "cells": [
  {
   "source": [
    "# Atividade 7"
   ],
   "cell_type": "markdown",
   "metadata": {}
  },
  {
   "cell_type": "code",
   "execution_count": 2,
   "metadata": {},
   "outputs": [],
   "source": [
    "import numpy as np\n",
    "e = 2.71828182845\n",
    "pi = 3.1415\n",
    "u0 = 4*pi/10**(7)\n",
    "make_complex = lambda radii, angles : radii * e**(1j*angles)\n",
    "print_complex = lambda zc : print(\"valor  =\", zc, \"|valor|  = \",abs(zc),\"  valor angle  = \",np.angle(zc)*180/pi)\n",
    "\n",
    "f = 60\n",
    "s = 10*10**(3)\n",
    "V1 = 2300\n",
    "V2 = 230\n",
    "\n",
    "Vcc = 120\n",
    "Icc = 4.5\n",
    "Pcc = 240\n",
    "\n",
    "V0 = 230\n",
    "I0 = 0.45\n",
    "P0 = 70\n",
    "\n",
    "w = 2*pi*f\n",
    "a = V1/V2"
   ]
  },
  {
   "source": [
    "## a)"
   ],
   "cell_type": "markdown",
   "metadata": {}
  },
  {
   "source": [
    "## b)"
   ],
   "cell_type": "markdown",
   "metadata": {}
  },
  {
   "cell_type": "code",
   "execution_count": 4,
   "metadata": {},
   "outputs": [
    {
     "output_type": "stream",
     "name": "stdout",
     "text": [
      "r1 =  0.059259259259259255\nr2 =  5.925925925925926\nx1 =  0.11944085553034889\nx2 =  11.944085553034888\nrc =  755.7142857142857\nxm =  693.8786565415246\n(3.043478260869565-3.3147419545447994j)\n"
     ]
    }
   ],
   "source": [
    "Zcc = Vcc/Icc\n",
    "Rcc = Pcc/(Icc**2)\n",
    "Xcc = np.sqrt((Zcc**2)-(Rcc**2))\n",
    "Req = lambda R1,R2: (R1*R2)/(R1+R2)\n",
    "\n",
    "## como é baixa tensão\n",
    "r1 = Rcc/(2*(a**2))\n",
    "x1 = Xcc/(2*(a**2))\n",
    "\n",
    "r2 = Rcc/2\n",
    "x2 = Xcc/2\n",
    "\n",
    "cos_phi = P0/(V0*I0)\n",
    "sen_phi = np.sqrt(1 - cos_phi**2)\n",
    "rc = V0/(I0*cos_phi)\n",
    "xm = V0/(I0*sen_phi)\n",
    "\n",
    "print(\"r1 = \",r1)\n",
    "print(\"r2 = \",r2)\n",
    "print(\"x1 = \",x1)\n",
    "print(\"x2 = \",x2)\n",
    "print(\"rc = \",rc)\n",
    "print(\"xm = \",xm)\n",
    "\n",
    "print()\n"
   ]
  },
  {
   "cell_type": "code",
   "execution_count": null,
   "metadata": {},
   "outputs": [],
   "source": []
  }
 ]
}