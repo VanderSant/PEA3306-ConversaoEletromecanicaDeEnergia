{
 "metadata": {
  "language_info": {
   "codemirror_mode": {
    "name": "ipython",
    "version": 3
   },
   "file_extension": ".py",
   "mimetype": "text/x-python",
   "name": "python",
   "nbconvert_exporter": "python",
   "pygments_lexer": "ipython3",
   "version": "3.9.5"
  },
  "orig_nbformat": 2,
  "kernelspec": {
   "name": "python395jvsc74a57bd07573f1826719c495f3ba25031edb16b094c0636b1d900b9c08b47dfe6633cab2",
   "display_name": "Python 3.9.5 64-bit"
  },
  "metadata": {
   "interpreter": {
    "hash": "7573f1826719c495f3ba25031edb16b094c0636b1d900b9c08b47dfe6633cab2"
   }
  }
 },
 "nbformat": 4,
 "nbformat_minor": 2,
 "cells": [
  {
   "source": [
    "# Atividade 5"
   ],
   "cell_type": "markdown",
   "metadata": {}
  },
  {
   "source": [
    "Um transformador não ideal com núcleo linear, destinado a distribuição de energia elétrica\n",
    "apresenta os seguintes dados nominais: 10 kVA – 2300/230-V, 60 Hz."
   ],
   "cell_type": "markdown",
   "metadata": {}
  },
  {
   "cell_type": "code",
   "execution_count": 13,
   "metadata": {},
   "outputs": [],
   "source": [
    "import numpy as np\n",
    "\n",
    "S1 = 10*10**(3) #[VA]\n",
    "V1 = 2300 #[V]\n",
    "V2 = 230  #[V]\n",
    "f = 60 #[Hz]\n",
    "r1 = 5.8\n",
    "r2 = 0.0605\n",
    "xd1 = 12j\n",
    "xd2 = 0.12j\n",
    "xm = 694j\n",
    "fp = 0.8    #indutivo \n",
    "\n",
    "e = 2.71828182845\n",
    "pi = 3.1415\n",
    "u0 = 4*pi/10**(7)"
   ]
  },
  {
   "source": [
    "## a)"
   ],
   "cell_type": "markdown",
   "metadata": {}
  },
  {
   "cell_type": "code",
   "execution_count": 18,
   "metadata": {},
   "outputs": [
    {
     "output_type": "stream",
     "name": "stdout",
     "text": [
      "r1  = 5.8\nxd1 = 12j\nr2' = 6.05\nxd2'= 12j\nxm  = 694j\n"
     ]
    }
   ],
   "source": [
    "w = 2*pi*f\n",
    "a = V1/V2\n",
    "\n",
    "r2_ = (a**2)*r2\n",
    "xd2_ = (a**2)*xd2\n",
    "print(\"r1  =\", r1)\n",
    "print(\"xd1 =\", xd1)\n",
    "print(\"r2' =\", r2_)\n",
    "print(\"xd2'=\", xd2_)\n",
    "print(\"xm  =\", xm)"
   ]
  },
  {
   "source": [
    "## b)"
   ],
   "cell_type": "markdown",
   "metadata": {}
  },
  {
   "cell_type": "code",
   "execution_count": 34,
   "metadata": {},
   "outputs": [
    {
     "output_type": "stream",
     "name": "stdout",
     "text": [
      "(34.782608695708035-26.08695652166465j)\n"
     ]
    }
   ],
   "source": [
    "make_complex = lambda radii, angles : radii * e**(1j*angles)\n",
    "\n",
    "i2_abs = S1/V2\n",
    "i2_angle = np.arccos(0.8)\n",
    "i2 = make_complex(i2_abs,-i2_angle)\n",
    "print(i2)"
   ]
  },
  {
   "source": [
    "## c)"
   ],
   "cell_type": "markdown",
   "metadata": {}
  },
  {
   "cell_type": "code",
   "execution_count": 33,
   "metadata": {},
   "outputs": [
    {
     "output_type": "stream",
     "name": "stdout",
     "text": [
      "(3.4782608695708035-2.608695652166465j)\n4.3478260869565215  angle= -36.87098506522545\n"
     ]
    }
   ],
   "source": [
    "i2_ = i2/a\n",
    "print(i2_)\n",
    "print(abs(i2_),\" angle=\",np.angle(i2_)*180/pi)"
   ]
  },
  {
   "source": [
    "## d)"
   ],
   "cell_type": "markdown",
   "metadata": {}
  },
  {
   "cell_type": "code",
   "execution_count": null,
   "metadata": {},
   "outputs": [],
   "source": []
  }
 ]
}