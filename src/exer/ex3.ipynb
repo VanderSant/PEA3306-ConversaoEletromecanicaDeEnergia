{
 "metadata": {
  "language_info": {
   "codemirror_mode": {
    "name": "ipython",
    "version": 3
   },
   "file_extension": ".py",
   "mimetype": "text/x-python",
   "name": "python",
   "nbconvert_exporter": "python",
   "pygments_lexer": "ipython3",
   "version": "3.9.5"
  },
  "orig_nbformat": 2,
  "kernelspec": {
   "name": "python395jvsc74a57bd07573f1826719c495f3ba25031edb16b094c0636b1d900b9c08b47dfe6633cab2",
   "display_name": "Python 3.9.5 64-bit"
  },
  "metadata": {
   "interpreter": {
    "hash": "7573f1826719c495f3ba25031edb16b094c0636b1d900b9c08b47dfe6633cab2"
   }
  }
 },
 "nbformat": 4,
 "nbformat_minor": 2,
 "cells": [
  {
   "source": [
    "# Atividade 3"
   ],
   "cell_type": "markdown",
   "metadata": {}
  },
  {
   "cell_type": "code",
   "execution_count": 6,
   "metadata": {},
   "outputs": [],
   "source": [
    "# dados dado pelo enuncido\n",
    "u = 2000\n",
    "phig = 40/10000\n",
    "N1 = 2000 \n",
    "N2 = 1500\n",
    "l1 = l2 = l5 = l6 = 80/1000\n",
    "l4 = 400/1000\n",
    "l3 = 1/1000\n",
    "l7 = 760/1000\n",
    "l8 = 80/1000\n",
    "\n",
    "e = 2.71828182845\n",
    "pi = 3.1415\n",
    "u0 = 4*pi/10**(7)"
   ]
  },
  {
   "source": [
    "## a)"
   ],
   "cell_type": "markdown",
   "metadata": {}
  },
  {
   "cell_type": "code",
   "execution_count": 8,
   "metadata": {},
   "outputs": [
    {
     "output_type": "stream",
     "name": "stdout",
     "text": [
      "0.5284995225210886\n"
     ]
    }
   ],
   "source": [
    "R = lambda u,l,s : (1/u)*(l/s)\n",
    "L = lambda N,R: (N**2)/R\n",
    "I = lambda phi,R,N: phi*R/N \n",
    "\n",
    "l_R1 = 2*l4 + 2*(l7-l5-l1) +(pi/2)*((l2/2)+(l5/2)+(l6/2)+(l1/2)) - l3\n",
    "l_Re = l3\n",
    "s = l8*l5\n",
    "R1 = R(u0*u,l_R1,s)\n",
    "Re = R(u0,l_Re,s)\n",
    "Req = R1 + Re\n",
    "ig = I(phig,Req,N1)\n",
    "\n",
    "print(ig)"
   ]
  },
  {
   "source": [
    "## b)"
   ],
   "cell_type": "markdown",
   "metadata": {}
  },
  {
   "cell_type": "code",
   "execution_count": 10,
   "metadata": {},
   "outputs": [
    {
     "output_type": "stream",
     "name": "stdout",
     "text": [
      "0.7046660300281181\n"
     ]
    }
   ],
   "source": [
    "ig = I(phig,Req,N2)\n",
    "\n",
    "print(ig)"
   ]
  },
  {
   "source": [
    "## c)"
   ],
   "cell_type": "markdown",
   "metadata": {}
  },
  {
   "cell_type": "code",
   "execution_count": 11,
   "metadata": {},
   "outputs": [
    {
     "output_type": "stream",
     "name": "stdout",
     "text": [
      "11.352895781964653\n"
     ]
    }
   ],
   "source": [
    "i1 = I(phig,Req,N1)\n",
    "M = N2*phig/i1\n",
    "print(M)"
   ]
  },
  {
   "source": [
    "## d)"
   ],
   "cell_type": "markdown",
   "metadata": {}
  },
  {
   "cell_type": "code",
   "execution_count": 12,
   "metadata": {},
   "outputs": [
    {
     "output_type": "stream",
     "name": "stdout",
     "text": [
      "0.30199972715490775\n"
     ]
    }
   ],
   "source": [
    "I_d = phig*Req/(N1+N2)\n",
    "print(I_d)"
   ]
  },
  {
   "source": [
    "## e)"
   ],
   "cell_type": "markdown",
   "metadata": {}
  },
  {
   "cell_type": "code",
   "execution_count": 13,
   "metadata": {},
   "outputs": [
    {
     "output_type": "stream",
     "name": "stdout",
     "text": [
      "2.1139980900843542\n"
     ]
    }
   ],
   "source": [
    "I_e = phig*Req/(N1-N2)\n",
    "print(I_e)"
   ]
  },
  {
   "source": [
    "## f)"
   ],
   "cell_type": "markdown",
   "metadata": {}
  },
  {
   "cell_type": "code",
   "execution_count": 20,
   "metadata": {},
   "outputs": [
    {
     "output_type": "stream",
     "name": "stdout",
     "text": [
      "0.6291660982393912\n"
     ]
    }
   ],
   "source": [
    "L1 = L(N1,Req)\n",
    "L2 = L(N2,Req)\n",
    "I1_i = L1/(L1+L2)\n",
    "I2_i = L2/(L1+L2)\n",
    "I_f = phig*Req/(I1_i*N2 + I2_i*N1)\n",
    "print(I_f)"
   ]
  }
 ]
}