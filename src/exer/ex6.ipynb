{
 "metadata": {
  "language_info": {
   "codemirror_mode": {
    "name": "ipython",
    "version": 3
   },
   "file_extension": ".py",
   "mimetype": "text/x-python",
   "name": "python",
   "nbconvert_exporter": "python",
   "pygments_lexer": "ipython3",
   "version": "3.9.5"
  },
  "orig_nbformat": 2,
  "kernelspec": {
   "name": "python395jvsc74a57bd07573f1826719c495f3ba25031edb16b094c0636b1d900b9c08b47dfe6633cab2",
   "display_name": "Python 3.9.5 64-bit"
  },
  "metadata": {
   "interpreter": {
    "hash": "7573f1826719c495f3ba25031edb16b094c0636b1d900b9c08b47dfe6633cab2"
   }
  }
 },
 "nbformat": 4,
 "nbformat_minor": 2,
 "cells": [
  {
   "source": [
    "# Atividade 6"
   ],
   "cell_type": "markdown",
   "metadata": {}
  },
  {
   "cell_type": "code",
   "execution_count": 9,
   "metadata": {},
   "outputs": [],
   "source": [
    "import numpy as np\n",
    "e = 2.71828182845\n",
    "pi = 3.1415\n",
    "u0 = 4*pi/10**(7)\n",
    "make_complex = lambda radii, angles : radii * e**(1j*angles)\n",
    "print_complex = lambda zc : print(\"valor  =\", zc, \"|valor|  = \",abs(zc),\"  valor angle  = \",np.angle(zc)*180/pi)\n",
    "\n",
    "s = 10*10**3\n",
    "V1 = 2300\n",
    "V2 = 230\n",
    "f = 60\n",
    "r1 = 5.92\n",
    "xd1 = 11.95j\n",
    "r2 = 0.0592\n",
    "xd2 = 0.1195j\n",
    "rc = 75500\n",
    "xm = 70000j\n",
    "fp = 0.95 #indutivo\n",
    "\n",
    "w = 2*pi*f\n",
    "a = V1/V2"
   ]
  },
  {
   "source": [
    "## a)\n"
   ],
   "cell_type": "markdown",
   "metadata": {}
  },
  {
   "source": [
    "## B)"
   ],
   "cell_type": "markdown",
   "metadata": {}
  },
  {
   "cell_type": "code",
   "execution_count": 18,
   "metadata": {},
   "outputs": [
    {
     "output_type": "stream",
     "name": "stdout",
     "text": [
      "r1  = 5.92\nxd1 = 11.95j\nr2' = 5.92\nxd2'= 11.95j\nrc  = 75500\nxm  = 70000j\ni1  = 4.3478260869565215\ni2  = 43.47826086956522\ni2' = 4.3478260869565215\nzc  = (5.025500000001745-1.6518019705710665j) |zc|  =  5.29   zc angle  =  -18.19540896778089\nzc' = (502.5500000001745-165.18019705710665j) |zc'| =  529.0  zc' angle = -18.19540896778089\n"
     ]
    }
   ],
   "source": [
    "r2_ = (a**2)*r2\n",
    "xd2_ = (a**2)*xd2\n",
    "\n",
    "i1 = s/V1\n",
    "i2 = s/V2\n",
    "i2_ = i2/a\n",
    "\n",
    "zc_abs = V2/i2\n",
    "zc_angle = np.arccos(0.95)\n",
    "zc = make_complex(zc_abs,-zc_angle)\n",
    "\n",
    "zc_ = (a**2)*zc\n",
    "\n",
    "print(\"r1  =\", r1)\n",
    "print(\"xd1 =\", xd1)\n",
    "print(\"r2' =\", r2_)\n",
    "print(\"xd2'=\", xd2_)\n",
    "print(\"rc  =\", rc)\n",
    "print(\"xm  =\", xm)\n",
    "\n",
    "print(\"i1  =\", i1)\n",
    "print(\"i2  =\", i2)\n",
    "print(\"i2' =\", i2_)\n",
    "\n",
    "print(\"zc  =\", zc, \"|zc|  = \",abs(zc),\"  zc angle  = \",np.angle(zc)*180/pi)\n",
    "print(\"zc' =\", zc_, \"|zc'| = \",abs(zc_),\" zc' angle =\",np.angle(zc_)*180/pi)"
   ]
  },
  {
   "source": [
    "## c)"
   ],
   "cell_type": "markdown",
   "metadata": {}
  },
  {
   "source": [
    "## d)"
   ],
   "cell_type": "markdown",
   "metadata": {}
  },
  {
   "cell_type": "code",
   "execution_count": 29,
   "metadata": {},
   "outputs": [
    {
     "output_type": "stream",
     "name": "stdout",
     "text": [
      "V1' = 230.0\nr1' = 0.05920000000000001\nxd1'= 0.11950000000000002j\nrc' = 755.0000000000001\nxm' = 700.0000000000001j\nxd2 = 0.1195j\nr2  = 0.0592\ni1  = 4.3478260869565215\ni1' = 0.43478260869565216\ni2  = 43.47826086956522\nzc  = (5.025500000001745-1.6518019705710665j) |zc|  =  5.29   zc angle  =  -18.19540896778089\n"
     ]
    }
   ],
   "source": [
    "a_ = 1/a\n",
    "r1_ = (a_**2)*r1\n",
    "xd1_= (a_**2)*xd1\n",
    "rc_ = (a_**2)*rc\n",
    "xm_ = (a_**2)*xm\n",
    "\n",
    "V1_ = a_*V1\n",
    "i1_ = a_*i1\n",
    "\n",
    "print(\"V1' =\", V1_)\n",
    "\n",
    "print(\"r1' =\", r1_)\n",
    "print(\"xd1'=\", xd1_)\n",
    "print(\"rc' =\", rc_)\n",
    "print(\"xm' =\", xm_)\n",
    "print(\"xd2 =\", xd2)\n",
    "print(\"r2  =\", r2)\n",
    "\n",
    "print(\"i1  =\", i1)\n",
    "print(\"i1' =\", i1_)\n",
    "print(\"i2  =\", i2)\n",
    "\n",
    "print(\"zc  =\", zc, \"|zc|  = \",abs(zc),\"  zc angle  = \",np.angle(zc)*180/pi)"
   ]
  },
  {
   "source": [
    "## e)"
   ],
   "cell_type": "markdown",
   "metadata": {}
  },
  {
   "source": [
    "## f)"
   ],
   "cell_type": "markdown",
   "metadata": {}
  },
  {
   "cell_type": "code",
   "execution_count": 33,
   "metadata": {},
   "outputs": [
    {
     "output_type": "stream",
     "name": "stdout",
     "text": [
      "valor  = (4.157677755510172+1.141930310850185j) |valor|  =  4.311645759278295   valor angle  =  15.358367953752749\n"
     ]
    }
   ],
   "source": [
    "Req = (r1+r2_)+(xd1+xd2_)+(zc_)\n",
    "i_alta = V1/Req\n",
    "\n",
    "print_complex(i_alta)\n",
    "\n",
    "##gabarito\n",
    "\"\"\" ic = ia = 43.48\n",
    "ic' =  i2' = 43.48/a \"\"\""
   ]
  },
  {
   "source": [
    "## g)"
   ],
   "cell_type": "markdown",
   "metadata": {}
  },
  {
   "cell_type": "code",
   "execution_count": 40,
   "metadata": {},
   "outputs": [
    {
     "output_type": "stream",
     "name": "stdout",
     "text": [
      "valor  = (189.2301890884963+112.42738900178645j) |valor|  =  220.10902357746963   valor angle  =  30.716735907505505\n"
     ]
    }
   ],
   "source": [
    "V_enro = (r1+r2_)*i_alta\n",
    "S_enro = V_enro*i_alta\n",
    "print_complex(S_enro)"
   ]
  },
  {
   "source": [
    "## h)"
   ],
   "cell_type": "markdown",
   "metadata": {}
  },
  {
   "cell_type": "code",
   "execution_count": 42,
   "metadata": {},
   "outputs": [
    {
     "output_type": "stream",
     "name": "stdout",
     "text": [
      "valor  = (0.030463576158940395-0.032857142857142856j) |valor|  =  0.044806487355362454   valor angle  =  -47.16618020455231\n"
     ]
    }
   ],
   "source": [
    "z_eq_h = (rc*xm)/(rc+xm)\n",
    "i_eq_h = V1/z_eq_h\n",
    "print_complex(i_eq_h)"
   ]
  },
  {
   "source": [
    "##  i)"
   ],
   "cell_type": "markdown",
   "metadata": {}
  },
  {
   "cell_type": "code",
   "execution_count": 43,
   "metadata": {},
   "outputs": [
    {
     "output_type": "stream",
     "name": "stdout",
     "text": [
      "valor  = (70.06622516556291-75.57142857142857j) |valor|  =  103.05492091733365   valor angle  =  -47.16618020455231\n"
     ]
    }
   ],
   "source": [
    "S_i = V1*i_eq_h\n",
    "print_complex(S_i)"
   ]
  },
  {
   "source": [
    "## j)"
   ],
   "cell_type": "markdown",
   "metadata": {}
  },
  {
   "cell_type": "code",
   "execution_count": null,
   "metadata": {},
   "outputs": [],
   "source": []
  }
 ]
}