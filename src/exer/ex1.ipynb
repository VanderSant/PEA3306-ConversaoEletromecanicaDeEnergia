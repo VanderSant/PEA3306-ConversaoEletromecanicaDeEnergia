{
 "metadata": {
  "language_info": {
   "codemirror_mode": {
    "name": "ipython",
    "version": 3
   },
   "file_extension": ".py",
   "mimetype": "text/x-python",
   "name": "python",
   "nbconvert_exporter": "python",
   "pygments_lexer": "ipython3",
   "version": "3.9.5"
  },
  "orig_nbformat": 2,
  "kernelspec": {
   "name": "python395jvsc74a57bd07573f1826719c495f3ba25031edb16b094c0636b1d900b9c08b47dfe6633cab2",
   "display_name": "Python 3.9.5 64-bit"
  },
  "metadata": {
   "interpreter": {
    "hash": "7573f1826719c495f3ba25031edb16b094c0636b1d900b9c08b47dfe6633cab2"
   }
  }
 },
 "nbformat": 4,
 "nbformat_minor": 2,
 "cells": [
  {
   "source": [
    "# Exercício 1\n"
   ],
   "cell_type": "markdown",
   "metadata": {}
  },
  {
   "cell_type": "code",
   "execution_count": 37,
   "metadata": {},
   "outputs": [],
   "source": [
    "#constantes dadas pelo execício\n",
    "e = 2.71828182845\n",
    "pi = 3.1415\n",
    "\n",
    "u0 = 4*pi/10**(7)\n",
    "l1 = l4 = l6 = 4*10**(-2)\n",
    "l3 = l5 = l7 = 20*10**(-2)\n",
    "l9 = 6*10**(-2)\n",
    "l2 = l8 = 4*10**(-2)\n",
    "k = 15000\n",
    "N = 200\n",
    "B = 0.4\n"
   ]
  },
  {
   "source": [
    "## a)"
   ],
   "cell_type": "markdown",
   "metadata": {}
  },
  {
   "cell_type": "code",
   "execution_count": 38,
   "metadata": {},
   "outputs": [
    {
     "output_type": "stream",
     "name": "stdout",
     "text": [
      "0.09355799588103081\n"
     ]
    }
   ],
   "source": [
    "R = lambda u,l,s : (1/u)*(l/s)\n",
    "L = lambda N,R: (N**2)/R\n",
    "l_R1 = 2*(l3+((2*pi/4)*(l1/2))+(l4/2))+l7\n",
    "s_R1 = l1*l9\n",
    "R1 = R(u0*k,l_R1,s_R1)\n",
    "l_R2 = ((l2/2)+(l7)+(l8/2))\n",
    "s_R2 = l9*l4\n",
    "R2 = R(u0*k,l_R2,s_R2)\n",
    "l_R3 = 2*(l5 + l4/2)+l7+2*((2*pi/4)*(l6/2))\n",
    "s_R3 = l9*l6\n",
    "R3 = R(u0*k,l_R3,s_R3)\n",
    "Req = (R1)+(R2*R3/(R2+R3))\n",
    "Leq = L(N,Req)\n",
    "phi_eq = B*s_R1\n",
    "i_eq = N*phi_eq/Leq\n",
    "print(i_eq)"
   ]
  },
  {
   "source": [
    "## b)"
   ],
   "cell_type": "markdown",
   "metadata": {}
  },
  {
   "cell_type": "code",
   "execution_count": 39,
   "metadata": {},
   "outputs": [
    {
     "output_type": "stream",
     "name": "stdout",
     "text": [
      "0.2981788869679583\n0.10182111303204186\n"
     ]
    }
   ],
   "source": [
    "e1 = phi_eq*(Req - R1)\n",
    "\n",
    "phi_2 = e1/R2\n",
    "phi_3 = e1/R3\n",
    "\n",
    "B2 = phi_2/s_R1\n",
    "B3 = phi_3/s_R1\n",
    "\n",
    "print(B2)\n",
    "print(B3)"
   ]
  },
  {
   "source": [
    "## c)"
   ],
   "cell_type": "markdown",
   "metadata": {}
  },
  {
   "cell_type": "code",
   "execution_count": 40,
   "metadata": {},
   "outputs": [
    {
     "output_type": "stream",
     "name": "stdout",
     "text": [
      "2.052203001912834\n"
     ]
    }
   ],
   "source": [
    "print(Leq)"
   ]
  },
  {
   "source": [
    "## D)"
   ],
   "cell_type": "markdown",
   "metadata": {}
  },
  {
   "cell_type": "code",
   "execution_count": 42,
   "metadata": {},
   "outputs": [
    {
     "output_type": "stream",
     "name": "stdout",
     "text": [
      "k= 15000 i= 0.28067398764309237\nk= 10000 i= 0.14033699382154619\nk= 5000  i=  0.28067398764309237\n"
     ]
    }
   ],
   "source": [
    "print(\"k= 15000 i=\",i_eq)\n",
    "k = 10000\n",
    "\n",
    "l_R1 = 2*(l3+((2*pi/4)*(l1/2))+(l4/2))+l7\n",
    "s_R1 = l1*l9\n",
    "R1 = R(u0*k,l_R1,s_R1)\n",
    "l_R2 = ((l2/2)+(l7)+(l8/2))\n",
    "s_R2 = l9*l4\n",
    "R2 = R(u0*k,l_R2,s_R2)\n",
    "l_R3 = 2*(l5 + l4/2)+l7+2*((2*pi/4)*(l6/2))\n",
    "s_R3 = l9*l6\n",
    "R3 = R(u0*k,l_R3,s_R3)\n",
    "Req = (R1)+(R2*R3/(R2+R3))\n",
    "Leq = L(N,Req)\n",
    "phi_eq = B*s_R1\n",
    "i_eq = N*phi_eq/Leq\n",
    "print(\"k= 10000 i=\",i_eq)\n",
    "\n",
    "k = 5000\n",
    "l_R1 = 2*(l3+((2*pi/4)*(l1/2))+(l4/2))+l7\n",
    "s_R1 = l1*l9\n",
    "R1 = R(u0*k,l_R1,s_R1)\n",
    "l_R2 = ((l2/2)+(l7)+(l8/2))\n",
    "s_R2 = l9*l4\n",
    "R2 = R(u0*k,l_R2,s_R2)\n",
    "l_R3 = 2*(l5 + l4/2)+l7+2*((2*pi/4)*(l6/2))\n",
    "s_R3 = l9*l6\n",
    "R3 = R(u0*k,l_R3,s_R3)\n",
    "Req = (R1)+(R2*R3/(R2+R3))\n",
    "Leq = L(N,Req)\n",
    "phi_eq = B*s_R1\n",
    "i_eq = N*phi_eq/Leq\n",
    "\n",
    "print(\"k= 5000  i= \",i_eq)"
   ]
  },
  {
   "cell_type": "code",
   "execution_count": null,
   "metadata": {},
   "outputs": [],
   "source": []
  }
 ]
}