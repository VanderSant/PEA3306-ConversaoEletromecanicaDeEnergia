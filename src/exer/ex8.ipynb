{
 "metadata": {
  "language_info": {
   "codemirror_mode": {
    "name": "ipython",
    "version": 3
   },
   "file_extension": ".py",
   "mimetype": "text/x-python",
   "name": "python",
   "nbconvert_exporter": "python",
   "pygments_lexer": "ipython3",
   "version": "3.9.5"
  },
  "orig_nbformat": 2,
  "kernelspec": {
   "name": "python395jvsc74a57bd07573f1826719c495f3ba25031edb16b094c0636b1d900b9c08b47dfe6633cab2",
   "display_name": "Python 3.9.5 64-bit"
  },
  "metadata": {
   "interpreter": {
    "hash": "7573f1826719c495f3ba25031edb16b094c0636b1d900b9c08b47dfe6633cab2"
   }
  }
 },
 "nbformat": 4,
 "nbformat_minor": 2,
 "cells": [
  {
   "source": [
    "# Atividade 8"
   ],
   "cell_type": "markdown",
   "metadata": {}
  },
  {
   "cell_type": "code",
   "execution_count": 5,
   "metadata": {},
   "outputs": [],
   "source": [
    "import numpy as np\n",
    "e = 2.71828182845\n",
    "pi = 3.14159265359\n",
    "u0 = 4*pi/10**(7)\n",
    "make_complex = lambda radii, angles : radii * e**(1j*angles)\n",
    "print_complex = lambda zc : print(\"valor  =\", zc, \"|valor|  = \",abs(zc),\"  valor angle  = \",np.angle(zc)*180/pi)\n",
    "Req = lambda R1,R2: (R1*R2)/(R1+R2)\n",
    "Relutancia = lambda u,l,s : (1/u)*(l/s)\n",
    "L = lambda N,R: (N**2)/R\n",
    "\n",
    "N = 2000\n",
    "l = 35/1000\n",
    "le1 = 17.5/1000 \n",
    "le2 = 35/1000\n",
    "le3 = 17.5/1000"
   ]
  },
  {
   "source": [
    "## a)"
   ],
   "cell_type": "markdown",
   "metadata": {}
  },
  {
   "cell_type": "code",
   "execution_count": 4,
   "metadata": {},
   "outputs": [
    {
     "output_type": "stream",
     "name": "stdout",
     "text": [
      "1.299224e+09\n6.496120e+08\n1.299224e+09\n"
     ]
    }
   ],
   "source": [
    "se1 = l*le1\n",
    "se2 = l*le2\n",
    "se3 = l*le3\n",
    "\n",
    "Re1 = (1/u0)*(1/se1)\n",
    "Re2 = (1/u0)*(1/se2)\n",
    "Re3 = (1/u0)*(1/se3)\n",
    "\n",
    "print('{:e}'.format(Re1))\n",
    "print('{:e}'.format(Re2))\n",
    "print('{:e}'.format(Re3))"
   ]
  },
  {
   "source": [
    "## b)"
   ],
   "cell_type": "markdown",
   "metadata": {}
  },
  {
   "cell_type": "code",
   "execution_count": 7,
   "metadata": {},
   "outputs": [
    {
     "output_type": "stream",
     "name": "stdout",
     "text": [
      "1.299224e+09\n"
     ]
    }
   ],
   "source": [
    "Re_eq = Req(Re1,Re3) + Re2\n",
    "print('{:e}'.format(Re_eq))"
   ]
  },
  {
   "source": [
    "## c)"
   ],
   "cell_type": "markdown",
   "metadata": {}
  },
  {
   "cell_type": "code",
   "execution_count": 8,
   "metadata": {},
   "outputs": [
    {
     "output_type": "stream",
     "name": "stdout",
     "text": [
      "3.078761e-03\n"
     ]
    }
   ],
   "source": [
    "Le_eq = L(N,Re_eq)\n",
    "print('{:e}'.format(Le_eq))"
   ]
  },
  {
   "source": [
    "## d)"
   ],
   "cell_type": "markdown",
   "metadata": {}
  },
  {
   "cell_type": "code",
   "execution_count": 9,
   "metadata": {},
   "outputs": [
    {
     "output_type": "stream",
     "name": "stdout",
     "text": [
      "-61.575216010364\n"
     ]
    }
   ],
   "source": [
    "i = 1\n",
    "x = 5/1000\n",
    "dL_dx = lambda x: -Le_eq/(x**2)\n",
    "dl_dx_eq = dL_dx(5/1000)\n",
    "f = (0.5)*(i**2)*(dl_dx_eq)\n",
    "print(f)"
   ]
  },
  {
   "cell_type": "code",
   "execution_count": null,
   "metadata": {},
   "outputs": [],
   "source": []
  }
 ]
}